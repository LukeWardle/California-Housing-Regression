{
 "cells": [
  {
   "cell_type": "markdown",
   "id": "1e4cb766",
   "metadata": {},
   "source": [
    "# California Housing Price Prediction - Linear Regression Model\n",
    "\n",
    "## Introduction\n",
    "This project applies Linear Regression to predict house prices using the California Housing dataset. \n",
    "The goal is to explore feature engineering, model performance evaluation, and multicollinearity."
   ]
  },
  {
   "cell_type": "markdown",
   "id": "243eda01",
   "metadata": {},
   "source": [
    "## 1. Importing Libraries & Loading Dataset"
   ]
  },
  {
   "cell_type": "code",
   "execution_count": 1,
   "id": "bd20501c",
   "metadata": {},
   "outputs": [
    {
     "data": {
      "text/html": [
       "<div>\n",
       "<style scoped>\n",
       "    .dataframe tbody tr th:only-of-type {\n",
       "        vertical-align: middle;\n",
       "    }\n",
       "\n",
       "    .dataframe tbody tr th {\n",
       "        vertical-align: top;\n",
       "    }\n",
       "\n",
       "    .dataframe thead th {\n",
       "        text-align: right;\n",
       "    }\n",
       "</style>\n",
       "<table border=\"1\" class=\"dataframe\">\n",
       "  <thead>\n",
       "    <tr style=\"text-align: right;\">\n",
       "      <th></th>\n",
       "      <th>MedInc</th>\n",
       "      <th>HouseAge</th>\n",
       "      <th>AveRooms</th>\n",
       "      <th>AveBedrms</th>\n",
       "      <th>Population</th>\n",
       "      <th>AveOccup</th>\n",
       "      <th>Latitude</th>\n",
       "      <th>Longitude</th>\n",
       "      <th>target</th>\n",
       "    </tr>\n",
       "  </thead>\n",
       "  <tbody>\n",
       "    <tr>\n",
       "      <th>0</th>\n",
       "      <td>8.3252</td>\n",
       "      <td>41.0</td>\n",
       "      <td>6.984127</td>\n",
       "      <td>1.023810</td>\n",
       "      <td>322.0</td>\n",
       "      <td>2.555556</td>\n",
       "      <td>37.88</td>\n",
       "      <td>-122.23</td>\n",
       "      <td>4.526</td>\n",
       "    </tr>\n",
       "    <tr>\n",
       "      <th>1</th>\n",
       "      <td>8.3014</td>\n",
       "      <td>21.0</td>\n",
       "      <td>6.238137</td>\n",
       "      <td>0.971880</td>\n",
       "      <td>2401.0</td>\n",
       "      <td>2.109842</td>\n",
       "      <td>37.86</td>\n",
       "      <td>-122.22</td>\n",
       "      <td>3.585</td>\n",
       "    </tr>\n",
       "    <tr>\n",
       "      <th>2</th>\n",
       "      <td>7.2574</td>\n",
       "      <td>52.0</td>\n",
       "      <td>8.288136</td>\n",
       "      <td>1.073446</td>\n",
       "      <td>496.0</td>\n",
       "      <td>2.802260</td>\n",
       "      <td>37.85</td>\n",
       "      <td>-122.24</td>\n",
       "      <td>3.521</td>\n",
       "    </tr>\n",
       "    <tr>\n",
       "      <th>3</th>\n",
       "      <td>5.6431</td>\n",
       "      <td>52.0</td>\n",
       "      <td>5.817352</td>\n",
       "      <td>1.073059</td>\n",
       "      <td>558.0</td>\n",
       "      <td>2.547945</td>\n",
       "      <td>37.85</td>\n",
       "      <td>-122.25</td>\n",
       "      <td>3.413</td>\n",
       "    </tr>\n",
       "    <tr>\n",
       "      <th>4</th>\n",
       "      <td>3.8462</td>\n",
       "      <td>52.0</td>\n",
       "      <td>6.281853</td>\n",
       "      <td>1.081081</td>\n",
       "      <td>565.0</td>\n",
       "      <td>2.181467</td>\n",
       "      <td>37.85</td>\n",
       "      <td>-122.25</td>\n",
       "      <td>3.422</td>\n",
       "    </tr>\n",
       "  </tbody>\n",
       "</table>\n",
       "</div>"
      ],
      "text/plain": [
       "   MedInc  HouseAge  AveRooms  AveBedrms  Population  AveOccup  Latitude  \\\n",
       "0  8.3252      41.0  6.984127   1.023810       322.0  2.555556     37.88   \n",
       "1  8.3014      21.0  6.238137   0.971880      2401.0  2.109842     37.86   \n",
       "2  7.2574      52.0  8.288136   1.073446       496.0  2.802260     37.85   \n",
       "3  5.6431      52.0  5.817352   1.073059       558.0  2.547945     37.85   \n",
       "4  3.8462      52.0  6.281853   1.081081       565.0  2.181467     37.85   \n",
       "\n",
       "   Longitude  target  \n",
       "0    -122.23   4.526  \n",
       "1    -122.22   3.585  \n",
       "2    -122.24   3.521  \n",
       "3    -122.25   3.413  \n",
       "4    -122.25   3.422  "
      ]
     },
     "execution_count": 1,
     "metadata": {},
     "output_type": "execute_result"
    }
   ],
   "source": [
    "# Import necessary libraries\n",
    "from sklearn.datasets import fetch_california_housing\n",
    "from sklearn.model_selection import train_test_split\n",
    "from sklearn.linear_model import LinearRegression\n",
    "from sklearn.metrics import mean_absolute_error, mean_squared_error, r2_score\n",
    "from sklearn.preprocessing import PolynomialFeatures\n",
    "from statsmodels.stats.outliers_influence import variance_inflation_factor\n",
    "import pandas as pd\n",
    "import matplotlib.pyplot as plt\n",
    "import seaborn as sns\n",
    "import numpy as np\n",
    "\n",
    "# Load the dataset\n",
    "housing = fetch_california_housing()\n",
    "\n",
    "# Convert a DataFrame for easier manipulation\n",
    "df = pd.DataFrame(housing.data, columns=housing.feature_names)\n",
    "df['target'] = housing.target\n",
    "\n",
    "# Show the first few rows of the DataFrame\n",
    "df.head()"
   ]
  },
  {
   "cell_type": "markdown",
   "id": "b65eaa2f",
   "metadata": {},
   "source": [
    "We first import necessary libraries and load the dataset into a Pandas DataFrame."
   ]
  },
  {
   "cell_type": "markdown",
   "id": "d0ffd774",
   "metadata": {},
   "source": [
    "## 2. Data Exploration"
   ]
  },
  {
   "cell_type": "code",
   "execution_count": 2,
   "id": "d679767c",
   "metadata": {},
   "outputs": [
    {
     "name": "stdout",
     "output_type": "stream",
     "text": [
      "<class 'pandas.core.frame.DataFrame'>\n",
      "RangeIndex: 20640 entries, 0 to 20639\n",
      "Data columns (total 9 columns):\n",
      " #   Column      Non-Null Count  Dtype  \n",
      "---  ------      --------------  -----  \n",
      " 0   MedInc      20640 non-null  float64\n",
      " 1   HouseAge    20640 non-null  float64\n",
      " 2   AveRooms    20640 non-null  float64\n",
      " 3   AveBedrms   20640 non-null  float64\n",
      " 4   Population  20640 non-null  float64\n",
      " 5   AveOccup    20640 non-null  float64\n",
      " 6   Latitude    20640 non-null  float64\n",
      " 7   Longitude   20640 non-null  float64\n",
      " 8   target      20640 non-null  float64\n",
      "dtypes: float64(9)\n",
      "memory usage: 1.4 MB\n"
     ]
    },
    {
     "data": {
      "text/plain": [
       "MedInc        0\n",
       "HouseAge      0\n",
       "AveRooms      0\n",
       "AveBedrms     0\n",
       "Population    0\n",
       "AveOccup      0\n",
       "Latitude      0\n",
       "Longitude     0\n",
       "target        0\n",
       "dtype: int64"
      ]
     },
     "execution_count": 2,
     "metadata": {},
     "output_type": "execute_result"
    }
   ],
   "source": [
    "# Get basic summary statistics of the dataset\n",
    "df.describe()\n",
    "\n",
    "# Get information on data types, missing values, etc.\n",
    "df.info()\n",
    "\n",
    "# Check for missing values\n",
    "df.isnull().sum()"
   ]
  },
  {
   "cell_type": "markdown",
   "id": "0176f593",
   "metadata": {},
   "source": [
    "We check for missing values and explore dataset statistics before model training."
   ]
  },
  {
   "cell_type": "markdown",
   "id": "0eb3204c",
   "metadata": {},
   "source": [
    "## 3. Splitting Data for Training & Testing"
   ]
  },
  {
   "cell_type": "code",
   "execution_count": 3,
   "id": "09501d2d",
   "metadata": {},
   "outputs": [
    {
     "name": "stdout",
     "output_type": "stream",
     "text": [
      "Training data shape: (16512, 8)\n",
      "Testing data shape: (4128, 8)\n"
     ]
    }
   ],
   "source": [
    "# Split the data into features (X) and target (Y)\n",
    "X = df.drop(\"target\", axis=1) # Drop the target column\n",
    "y = df[\"target\"]  # This is the target column\n",
    "\n",
    "# Train-test split\n",
    "X_train, X_test, y_train, y_test = train_test_split(X, y, test_size=0.2, random_state=42)\n",
    "\n",
    "# Check the shape of the training and testing sets\n",
    "print(f\"Training data shape: {X_train.shape}\")\n",
    "print(f\"Testing data shape: {X_test.shape}\")"
   ]
  },
  {
   "cell_type": "markdown",
   "id": "a339e354",
   "metadata": {},
   "source": [
    "We separate features and target variables, then split data into training (80%) and testing (20%)."
   ]
  },
  {
   "cell_type": "markdown",
   "id": "8e4f91b4",
   "metadata": {},
   "source": [
    "## 4. Training the Linear Regression Model"
   ]
  },
  {
   "cell_type": "code",
   "execution_count": 4,
   "id": "c1fa5f5c",
   "metadata": {},
   "outputs": [
    {
     "name": "stdout",
     "output_type": "stream",
     "text": [
      "Predicted values: [0.71912284 1.76401657 2.70965883 2.83892593 2.60465725]\n",
      "Actual values: [0.477   0.458   5.00001 2.186   2.78   ]\n"
     ]
    }
   ],
   "source": [
    "# Initalize the model\n",
    "model = LinearRegression()\n",
    "\n",
    "# Train the model using the training data\n",
    "model.fit(X_train, y_train)\n",
    "\n",
    "# Make predictions on the testing data\n",
    "y_pred = model.predict(X_test)\n",
    "\n",
    "# Show the first few predicted values and actual values\n",
    "print(\"Predicted values:\", y_pred[:5])\n",
    "print(\"Actual values:\", y_test[:5].values)"
   ]
  },
  {
   "cell_type": "markdown",
   "id": "19d127c1",
   "metadata": {},
   "source": [
    "We train a simple Linear Regression model on the dataset and make predictions."
   ]
  },
  {
   "cell_type": "markdown",
   "id": "7e395253",
   "metadata": {},
   "source": [
    "## 5. Evaluating the Model Performance"
   ]
  },
  {
   "cell_type": "code",
   "execution_count": 5,
   "id": "4953119d",
   "metadata": {},
   "outputs": [
    {
     "name": "stdout",
     "output_type": "stream",
     "text": [
      "Mean Squared Error (MSE): 0.5559\n",
      "Mean Absolute Error (MAE): 0.5332\n",
      "R² Score: 0.5758\n"
     ]
    }
   ],
   "source": [
    "# Evaluate performance metrics\n",
    "mse = mean_squared_error(y_test, y_pred)\n",
    "mae = mean_absolute_error(y_test, y_pred)\n",
    "r2 = r2_score(y_test, y_pred)\n",
    "\n",
    "print(f\"Mean Squared Error (MSE): {mse:.4f}\")\n",
    "print(f\"Mean Absolute Error (MAE): {mae:.4f}\")\n",
    "print(f\"R² Score: {r2:.4f}\")\n"
   ]
  },
  {
   "cell_type": "markdown",
   "id": "72ffa8c7",
   "metadata": {},
   "source": [
    "We calculate MSE, MAE, and R² to measure model accuracy."
   ]
  },
  {
   "cell_type": "markdown",
   "id": "aa0eb068",
   "metadata": {},
   "source": [
    "## 6. Feature Correlation & Multicollinearity"
   ]
  },
  {
   "cell_type": "code",
   "execution_count": 6,
   "id": "26664510",
   "metadata": {},
   "outputs": [
    {
     "data": {
      "image/png": "[encoded data removed]",
      "text/plain": [
       "<Figure size 1000x600 with 2 Axes>"
      ]
     },
     "metadata": {},
     "output_type": "display_data"
    },
    {
     "name": "stdout",
     "output_type": "stream",
     "text": [
      "      Feature         VIF\n",
      "0      MedInc   11.831609\n",
      "1    HouseAge    7.155405\n",
      "2    AveRooms   46.792373\n",
      "3   AveBedrms   48.332634\n",
      "4  Population    2.915730\n",
      "5    AveOccup    1.080609\n",
      "6    Latitude  560.583263\n",
      "7   Longitude  641.224254\n"
     ]
    }
   ],
   "source": [
    "# Compute correlation matrix\n",
    "plt.figure(figsize=(10, 6))\n",
    "sns.heatmap(X_train.corr(), annot=True, cmap=\"coolwarm\", fmt=\".2f\", linewidths=0.5)\n",
    "plt.title(\"Feature Correlation Matrix\")\n",
    "plt.show()\n",
    "\n",
    "# Compute Variance Inflation Factor (VIF)\n",
    "vif_data = pd.DataFrame()\n",
    "vif_data[\"Feature\"] = X_train.columns\n",
    "vif_data[\"VIF\"] = [variance_inflation_factor(X_train.values, i) for i in range(X_train.shape[1])]\n",
    "\n",
    "print(vif_data)"
   ]
  },
  {
   "cell_type": "markdown",
   "id": "375d74b9",
   "metadata": {},
   "source": [
    "We analyze feature correlations and calculate VIF to detect multicollinearity issues."
   ]
  },
  {
   "cell_type": "markdown",
   "id": "79ecdd03",
   "metadata": {},
   "source": [
    "## 7. Feature Engineering & Removing Redundant Features"
   ]
  },
  {
   "cell_type": "code",
   "execution_count": 7,
   "id": "9c700b6a",
   "metadata": {},
   "outputs": [
    {
     "name": "stdout",
     "output_type": "stream",
     "text": [
      "      Feature        VIF\n",
      "0      MedInc   9.865861\n",
      "1    HouseAge   6.880512\n",
      "2    AveRooms  42.192223\n",
      "3   AveBedrms  39.768396\n",
      "4  Population   2.793169\n",
      "5    AveOccup   1.094908\n",
      "6    Latitude  22.498755\n"
     ]
    }
   ],
   "source": [
    "# Drop Longitude due to high VIF\n",
    "df = df.drop(\"Longitude\", axis=1)\n",
    "\n",
    "# Recalculate VIF\n",
    "vif_data = pd.DataFrame()\n",
    "vif_data[\"Feature\"] = df.drop(\"target\", axis=1).columns\n",
    "vif_data[\"VIF\"] = [variance_inflation_factor(df.drop(\"target\", axis=1).values, i) for i in range(df.drop(\"target\", axis=1).shape[1])]\n",
    "\n",
    "print(vif_data)\n"
   ]
  },
  {
   "cell_type": "markdown",
   "id": "377aed6d",
   "metadata": {},
   "source": [
    "We remove highly correlated features (Longitude) to improve model stability."
   ]
  },
  {
   "cell_type": "markdown",
   "id": "ae1d5b20",
   "metadata": {},
   "source": [
    "## 8. Retraining the Model After Feature Selection"
   ]
  },
  {
   "cell_type": "code",
   "execution_count": 8,
   "id": "64f51cd9",
   "metadata": {},
   "outputs": [
    {
     "name": "stdout",
     "output_type": "stream",
     "text": [
      "Updated MSE: 0.6370\n",
      "Updated MAE: 0.5786\n",
      "Updated R² Score: 0.5139\n"
     ]
    }
   ],
   "source": [
    "# Update feature and target variables\n",
    "X = df.drop(\"target\", axis=1)\n",
    "y = df[\"target\"]\n",
    "\n",
    "# Train-test split again\n",
    "X_train, X_test, y_train, y_test = train_test_split(X, y, test_size=0.2, random_state=42)\n",
    "\n",
    "# Train new model\n",
    "model = LinearRegression()\n",
    "model.fit(X_train, y_train)\n",
    "\n",
    "# Make predictions\n",
    "y_pred = model.predict(X_test)\n",
    "\n",
    "# Evaluate new model\n",
    "mse = mean_squared_error(y_test, y_pred)\n",
    "mae = mean_absolute_error(y_test, y_pred)\n",
    "r2 = r2_score(y_test, y_pred)\n",
    "\n",
    "print(f\"Updated MSE: {mse:.4f}\")\n",
    "print(f\"Updated MAE: {mae:.4f}\")\n",
    "print(f\"Updated R² Score: {r2:.4f}\")\n"
   ]
  },
  {
   "cell_type": "markdown",
   "id": "a4d1e8fa",
   "metadata": {},
   "source": [
    "After feature selection, we retrain the model and compare performance metrics."
   ]
  },
  {
   "cell_type": "markdown",
   "id": "3e633581",
   "metadata": {},
   "source": [
    "## 9. Polynomial Regression for Non-Linear Relationships"
   ]
  },
  {
   "cell_type": "code",
   "execution_count": 9,
   "id": "71ed7b6f",
   "metadata": {},
   "outputs": [
    {
     "name": "stdout",
     "output_type": "stream",
     "text": [
      "Polynomial MSE: 0.5977\n",
      "Polynomial MAE: 0.5279\n",
      "Polynomial R² Score: 0.5439\n"
     ]
    }
   ],
   "source": [
    "# Add polynomial features\n",
    "poly = PolynomialFeatures(degree=2, include_bias=False)\n",
    "X_poly = poly.fit_transform(X)\n",
    "\n",
    "# Train-test split with polynomial features\n",
    "X_train_poly, X_test_poly, y_train, y_test = train_test_split(X_poly, y, test_size=0.2, random_state=42)\n",
    "\n",
    "# Train polynomial model\n",
    "model = LinearRegression()\n",
    "model.fit(X_train_poly, y_train)\n",
    "\n",
    "# Make predictions\n",
    "y_pred_poly = model.predict(X_test_poly)\n",
    "\n",
    "# Evaluate performance\n",
    "mse_poly = mean_squared_error(y_test, y_pred_poly)\n",
    "mae_poly = mean_absolute_error(y_test, y_pred_poly)\n",
    "r2_poly = r2_score(y_test, y_pred_poly)\n",
    "\n",
    "print(f\"Polynomial MSE: {mse_poly:.4f}\")\n",
    "print(f\"Polynomial MAE: {mae_poly:.4f}\")\n",
    "print(f\"Polynomial R² Score: {r2_poly:.4f}\")\n"
   ]
  },
  {
   "cell_type": "markdown",
   "id": "a4da81ce",
   "metadata": {},
   "source": [
    "We test polynomial regression to capture non-linear patterns and compare its performance."
   ]
  },
  {
   "cell_type": "code",
   "execution_count": null,
   "id": "03a43a8b",
   "metadata": {},
   "outputs": [],
   "source": []
  }
 ],
 "metadata": {
  "kernelspec": {
   "display_name": "Python 3 (ipykernel)",
   "language": "python",
   "name": "python3"
  },
  "language_info": {
   "codemirror_mode": {
    "name": "ipython",
    "version": 3
   },
   "file_extension": ".py",
   "mimetype": "text/x-python",
   "name": "python",
   "nbconvert_exporter": "python",
   "pygments_lexer": "ipython3",
   "version": "3.10.12"
  }
 },
 "nbformat": 4,
 "nbformat_minor": 5
}
